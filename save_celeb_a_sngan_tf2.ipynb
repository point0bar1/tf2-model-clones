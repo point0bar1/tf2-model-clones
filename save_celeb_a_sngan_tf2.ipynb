{
 "cells": [
  {
   "cell_type": "markdown",
   "metadata": {
    "id": "c8cB4EniatiH"
   },
   "source": [
    "Load SNGAN model from PyTorch to TF2.  \n",
    "SNGAN in Pytorch from [Mimicry Github Repo](https://github.com/kwotsin/mimicry)."
   ]
  },
  {
   "cell_type": "code",
   "execution_count": 1,
   "metadata": {
    "executionInfo": {
     "elapsed": 12,
     "status": "ok",
     "timestamp": 1652813523399,
     "user": {
      "displayName": "MITCHELL HILL",
      "userId": "00701271769183393256"
     },
     "user_tz": 240
    },
    "id": "nlUBuHn5psde"
   },
   "outputs": [],
   "source": [
    "# location of torch model and location for saving tf model\n",
    "TF2_FILE = 'sngan-celeb_a-tf2-64/weights'\n",
    "TORCH_FILE = 'nets/sngan-celeba-pt.pth'"
   ]
  },
  {
   "cell_type": "code",
   "execution_count": 2,
   "metadata": {
    "executionInfo": {
     "elapsed": 3866,
     "status": "ok",
     "timestamp": 1652813527255,
     "user": {
      "displayName": "MITCHELL HILL",
      "userId": "00701271769183393256"
     },
     "user_tz": 240
    },
    "id": "ikZ2nT167ShB"
   },
   "outputs": [],
   "source": [
    "############################\n",
    "# ## SNGAN in TF2 Keras ## #\n",
    "############################\n",
    "\n",
    "import tensorflow as tf\n",
    "import tensorflow_addons as tfa\n",
    "import tensorflow.keras as keras\n",
    "\n",
    "import math\n",
    "\n",
    "\n",
    "class GenBlock(keras.layers.Layer):\n",
    "    def __init__(self, in_channels, out_channels, hidden_channels=None, upsample=False):\n",
    "        super(GenBlock, self).__init__()\n",
    "        self.in_channels = in_channels\n",
    "        self.out_channels = out_channels\n",
    "        self.hidden_channels = hidden_channels if hidden_channels is not None else out_channels\n",
    "        self.learnable_sc = in_channels != out_channels or upsample\n",
    "        self.upsample = upsample\n",
    "\n",
    "        self.conv_1 = keras.layers.Conv2D(filters=self.hidden_channels, kernel_size=3, padding=\"SAME\")\n",
    "        self.conv_2 = keras.layers.Conv2D(filters=out_channels, kernel_size=3, padding=\"SAME\")\n",
    "\n",
    "        self.bn_1 = keras.layers.BatchNormalization()\n",
    "        self.bn_2 = keras.layers.BatchNormalization()\n",
    "\n",
    "        self.relu = keras.activations.relu\n",
    "\n",
    "        if self.learnable_sc:\n",
    "            self.sc = keras.layers.Conv2D(filters=out_channels, kernel_size=1, padding=\"VALID\")\n",
    "        if self.upsample:\n",
    "            self.upsampling_layer = keras.layers.UpSampling2D(interpolation='bilinear')\n",
    "\n",
    "    def call(self, x, training=False):\n",
    "\n",
    "        # residual layer\n",
    "        h = x\n",
    "        h = self.bn_1(h, training=training)\n",
    "        h = self.relu(h)\n",
    "        h = self.upsampling_layer(h) if self.upsample else h\n",
    "        h = self.conv_1(h)\n",
    "        h = self.bn_2(h, training=training)\n",
    "        h = self.relu(h)\n",
    "        h = self.conv_2(h)\n",
    "\n",
    "        # shortcut\n",
    "        y = x\n",
    "        y = self.upsampling_layer(y) if self.upsample else y\n",
    "        y = self.sc(y) if self.learnable_sc else y\n",
    "\n",
    "        return h + y\n",
    "\n",
    "class GenSNGAN64(keras.Model):\n",
    "  def __init__(self, nz=128, ngf=1024, bottom_width=4):\n",
    "    super().__init__()\n",
    "\n",
    "    self.nz = nz\n",
    "    self.ngf = ngf\n",
    "    self.bottom_width = bottom_width\n",
    "\n",
    "    # Build the layers\n",
    "    self.lin_1 = keras.layers.Dense((self.bottom_width**2) * self.ngf)\n",
    "    self.block2 = GenBlock(self.ngf, self.ngf >> 1, upsample=True)\n",
    "    self.block3 = GenBlock(self.ngf >> 1, self.ngf >> 2, upsample=True)\n",
    "    self.block4 = GenBlock(self.ngf >> 2, self.ngf >> 3, upsample=True)\n",
    "    self.block5 = GenBlock(self.ngf >> 3, self.ngf >> 4, upsample=True)\n",
    "    self.bn_6 = keras.layers.BatchNormalization()\n",
    "    self.relu = keras.activations.relu\n",
    "    self.conv_6 = keras.layers.Conv2D(filters=3, kernel_size=3, padding=\"SAME\")\n",
    "\n",
    "  def generate_latent_z(self, num_ims):\n",
    "    return tf.random.normal([num_ims, self.nz])  # noise sample\n",
    "\n",
    "  def generate_images(self, num_ims):\n",
    "    z = self.generate_latent_z(num_ims)\n",
    "    return self.call(z)\n",
    "\n",
    "  def call(self, x, training=False):\n",
    "\n",
    "    h = self.lin_1(x)\n",
    "    h = tf.reshape(h, (-1, self.ngf, self.bottom_width, self.bottom_width))\n",
    "    h = tf.transpose(h, (0, 2, 3, 1))\n",
    "    h = self.block2(h, training=training)\n",
    "    h = self.block3(h, training=training)\n",
    "    h = self.block4(h, training=training)\n",
    "    h = self.block5(h, training=training)\n",
    "    h = self.bn_6(h, training=training)\n",
    "    h = self.relu(h)\n",
    "    h = self.conv_6(h)\n",
    "    h = keras.activations.tanh(h)\n",
    "\n",
    "    return h"
   ]
  },
  {
   "cell_type": "code",
   "execution_count": 3,
   "metadata": {
    "executionInfo": {
     "elapsed": 3706,
     "status": "ok",
     "timestamp": 1652813530958,
     "user": {
      "displayName": "MITCHELL HILL",
      "userId": "00701271769183393256"
     },
     "user_tz": 240
    },
    "id": "D1E54CE9fVq_"
   },
   "outputs": [],
   "source": [
    "import torch\n",
    "import torch.nn as nn\n",
    "import torch.nn.functional as F\n",
    "\n",
    "import numpy as np\n",
    "\n",
    "\n",
    "##########################\n",
    "# ## SN GAN in Torch ## #\n",
    "##########################\n",
    "\n",
    "# code from: https://github.com/kwotsin/mimicry\n",
    "\n",
    "class GBlock(nn.Module):\n",
    "    r\"\"\"\n",
    "    Residual block for generator.\n",
    "    Uses bilinear (rather than nearest) interpolation, and align_corners\n",
    "    set to False. This is as per how torchvision does upsampling, as seen in:\n",
    "    https://github.com/pytorch/vision/blob/master/torchvision/models/segmentation/_utils.py\n",
    "    Attributes:\n",
    "        in_channels (int): The channel size of input feature map.\n",
    "        out_channels (int): The channel size of output feature map.\n",
    "        hidden_channels (int): The channel size of intermediate feature maps.\n",
    "        upsample (bool): If True, upsamples the input feature map.\n",
    "        num_classes (int): If more than 0, uses conditional batch norm instead.\n",
    "        spectral_norm (bool): If True, uses spectral norm for convolutional layers.\n",
    "    \"\"\"\n",
    "    def __init__(self, in_channels, out_channels, hidden_channels=None, upsample=False):\n",
    "        super().__init__()\n",
    "        self.in_channels = in_channels\n",
    "        self.out_channels = out_channels\n",
    "        self.hidden_channels = hidden_channels if hidden_channels is not None else out_channels\n",
    "        self.learnable_sc = in_channels != out_channels or upsample\n",
    "        self.upsample = upsample\n",
    "\n",
    "        # Build the layers\n",
    "        # Note: Can't use something like self.conv = SNConv2d to save code length\n",
    "        # this results in somehow spectral norm working worse consistently.\n",
    "        self.c1 = nn.Conv2d(self.in_channels, self.hidden_channels, 3, 1, padding=1)\n",
    "        self.c2 = nn.Conv2d(self.hidden_channels, self.out_channels, 3, 1, padding=1)\n",
    "\n",
    "        self.b1 = nn.BatchNorm2d(self.in_channels)\n",
    "        self.b2 = nn.BatchNorm2d(self.hidden_channels)\n",
    "\n",
    "        self.activation = nn.ReLU(True)\n",
    "\n",
    "        nn.init.xavier_uniform_(self.c1.weight.data, math.sqrt(2.0))\n",
    "        nn.init.xavier_uniform_(self.c2.weight.data, math.sqrt(2.0))\n",
    "\n",
    "        # Shortcut layer\n",
    "        if self.learnable_sc:\n",
    "            self.c_sc = nn.Conv2d(in_channels, out_channels, 1, 1, padding=0)\n",
    "            nn.init.xavier_uniform_(self.c_sc.weight.data, 1.0)\n",
    "\n",
    "    def _upsample_conv(self, x, conv):\n",
    "        r\"\"\"\n",
    "        Helper function for performing convolution after upsampling.\n",
    "        \"\"\"\n",
    "        return conv(\n",
    "            F.interpolate(x, scale_factor=2, mode='bilinear', align_corners=False))\n",
    "\n",
    "    def _residual(self, x):\n",
    "        r\"\"\"\n",
    "        Helper function for feedforwarding through main layers.\n",
    "        \"\"\"\n",
    "        h = x\n",
    "        h = self.b1(h)\n",
    "        h = self.activation(h)\n",
    "        h = self._upsample_conv(h, self.c1) if self.upsample else self.c1(h)\n",
    "        h = self.b2(h)\n",
    "        h = self.activation(h)\n",
    "        h = self.c2(h)\n",
    "\n",
    "        return h\n",
    "\n",
    "    def _shortcut(self, x):\n",
    "        r\"\"\"\n",
    "        Helper function for feedforwarding through shortcut layers.\n",
    "        \"\"\"\n",
    "        if self.learnable_sc:\n",
    "            x = self._upsample_conv(x, self.c_sc) if self.upsample else self.c_sc(x)\n",
    "            return x\n",
    "        else:\n",
    "            return x\n",
    "\n",
    "    def forward(self, x, y=None):\n",
    "        r\"\"\"\n",
    "        Residual block feedforward function.\n",
    "        \"\"\"\n",
    "        if y is None:\n",
    "            return self._residual(x) + self._shortcut(x)\n",
    "\n",
    "        else:\n",
    "            return self._residual_conditional(x, y) + self._shortcut(x)\n",
    "\n",
    "\n",
    "class SNGANGenerator64(nn.Module):\n",
    "    r\"\"\"\n",
    "    ResNet backbone generator for SNGAN.\n",
    "    Attributes:\n",
    "        nz (int): Noise dimension for upsampling.\n",
    "        ngf (int): Variable controlling generator feature map sizes.\n",
    "        bottom_width (int): Starting width for upsampling generator output to an image.\n",
    "        loss_type (str): Name of loss to use for GAN loss.\n",
    "    \"\"\"\n",
    "    def __init__(self, nz=128, ngf=1024, bottom_width=4):\n",
    "        super().__init__()\n",
    "        self.nz = nz\n",
    "        self.ngf = ngf\n",
    "        self.bottom_width = bottom_width\n",
    "        \n",
    "        # Build the layers\n",
    "        self.l1 = nn.Linear(self.nz, (self.bottom_width**2) * self.ngf)\n",
    "        self.block2 = GBlock(self.ngf, self.ngf >> 1, upsample=True)\n",
    "        self.block3 = GBlock(self.ngf >> 1, self.ngf >> 2, upsample=True)\n",
    "        self.block4 = GBlock(self.ngf >> 2, self.ngf >> 3, upsample=True)\n",
    "        self.block5 = GBlock(self.ngf >> 3, self.ngf >> 4, upsample=True)\n",
    "        self.b6 = nn.BatchNorm2d(self.ngf >> 4)\n",
    "        self.c6 = nn.Conv2d(self.ngf >> 4, 3, 3, 1, padding=1)\n",
    "        self.activation = nn.ReLU(True)\n",
    "\n",
    "        # Initialise the weights\n",
    "        nn.init.xavier_uniform_(self.l1.weight.data, 1.0)\n",
    "        nn.init.xavier_uniform_(self.c6.weight.data, 1.0)\n",
    "\n",
    "    def forward(self, x):\n",
    "        r\"\"\"\n",
    "        Feedforwards a batch of noise vectors into a batch of fake images.\n",
    "        Args:\n",
    "            x (Tensor): A batch of noise vectors of shape (N, nz).\n",
    "        Returns:\n",
    "            Tensor: A batch of fake images of shape (N, C, H, W).\n",
    "        \"\"\"\n",
    "        h = self.l1(x)\n",
    "        h = h.view(x.shape[0], -1, self.bottom_width, self.bottom_width)\n",
    "        h = self.block2(h)\n",
    "        h = self.block3(h)\n",
    "        h = self.block4(h)\n",
    "        h = self.block5(h)\n",
    "        h = self.b6(h)\n",
    "        h = self.activation(h)\n",
    "        h = torch.tanh(self.c6(h))\n",
    "\n",
    "        return h"
   ]
  },
  {
   "cell_type": "code",
   "execution_count": 4,
   "metadata": {
    "colab": {
     "base_uri": "https://localhost:8080/",
     "height": 719
    },
    "executionInfo": {
     "elapsed": 4647,
     "status": "ok",
     "timestamp": 1652813535597,
     "user": {
      "displayName": "MITCHELL HILL",
      "userId": "00701271769183393256"
     },
     "user_tz": 240
    },
    "id": "2gFcHWY69_MR",
    "outputId": "3d58b0cf-2dfa-4f64-c3ed-ac3612bb2a7f"
   },
   "outputs": [
    {
     "name": "stdout",
     "output_type": "stream",
     "text": [
      "(8, 64, 64, 3)\n",
      "Model: \"gen_sngan64\"\n",
      "_________________________________________________________________\n",
      " Layer (type)                Output Shape              Param #   \n",
      "=================================================================\n",
      " dense (Dense)               multiple                  2113536   \n",
      "                                                                 \n",
      " gen_block (GenBlock)        multiple                  7609856   \n",
      "                                                                 \n",
      " gen_block_1 (GenBlock)      multiple                  1904384   \n",
      "                                                                 \n",
      " gen_block_2 (GenBlock)      multiple                  477056    \n",
      "                                                                 \n",
      " gen_block_3 (GenBlock)      multiple                  119744    \n",
      "                                                                 \n",
      " batch_normalization_8 (Batc  multiple                 256       \n",
      " hNormalization)                                                 \n",
      "                                                                 \n",
      " conv2d_12 (Conv2D)          multiple                  1731      \n",
      "                                                                 \n",
      "=================================================================\n",
      "Total params: 12,226,563\n",
      "Trainable params: 0\n",
      "Non-trainable params: 12,226,563\n",
      "_________________________________________________________________\n"
     ]
    },
    {
     "data": {
      "text/plain": [
       "<matplotlib.image.AxesImage at 0x1db98c1b250>"
      ]
     },
     "execution_count": 4,
     "metadata": {},
     "output_type": "execute_result"
    },
    {
     "data": {
      "image/png": "[encoded data removed]",
      "text/plain": [
       "<Figure size 432x288 with 1 Axes>"
      ]
     },
     "metadata": {
      "needs_background": "light"
     },
     "output_type": "display_data"
    }
   ],
   "source": [
    "######################\n",
    "# ## Build models ## #\n",
    "######################\n",
    "\n",
    "# make the tf model\n",
    "model = GenSNGAN64()\n",
    "model.trainable = False\n",
    "\n",
    "# Build tf network. Sample random noise (z) and ImageNet label (y) inputs.\n",
    "batch_size = 8\n",
    "z = tf.random.normal([batch_size, 128])  # noise sample\n",
    "# Call BigGAN on a dict of the inputs to generate a batch of images with shape\n",
    "# [8, 128, 128, 3] and range [-1, 1].\n",
    "samples = model(z)\n",
    "print(samples.shape)\n",
    "\n",
    "# tf model summary\n",
    "model.summary()\n",
    "\n",
    "\n",
    "# make the pytorch model and load the biggan weights from huggingface\n",
    "model_pt = SNGANGenerator64()\n",
    "model_pt.load_state_dict(torch.load(TORCH_FILE, map_location=torch.device('cpu'))['model_state_dict'])\n",
    "model_pt.eval()\n",
    "# visualize samples from loaded model\n",
    "z = torch.randn([batch_size, 128])\n",
    "samples_pt = model_pt(z)\n",
    "\n",
    "import matplotlib.pyplot as plt\n",
    "plt.imshow((samples_pt[0].permute(1, 2, 0).data.numpy()+1)/2)"
   ]
  },
  {
   "cell_type": "code",
   "execution_count": 5,
   "metadata": {
    "colab": {
     "base_uri": "https://localhost:8080/"
    },
    "executionInfo": {
     "elapsed": 258,
     "status": "ok",
     "timestamp": 1652813535851,
     "user": {
      "displayName": "MITCHELL HILL",
      "userId": "00701271769183393256"
     },
     "user_tz": 240
    },
    "id": "CENYyFCPjsO_",
    "outputId": "43d381ca-5edd-413b-d5df-09fd80622207"
   },
   "outputs": [
    {
     "name": "stdout",
     "output_type": "stream",
     "text": [
      "Initial linear layer.\n",
      "Loading Gen Block layer: 2\n",
      "\tLoading bn block:  1\n",
      "\tLoading bn block:  2\n",
      "\tLoading conv block:  1\n",
      "\tLoading conv block:  2\n",
      "Loading Gen Block layer: 3\n",
      "\tLoading bn block:  1\n",
      "\tLoading bn block:  2\n",
      "\tLoading conv block:  1\n",
      "\tLoading conv block:  2\n",
      "Loading Gen Block layer: 4\n",
      "\tLoading bn block:  1\n",
      "\tLoading bn block:  2\n",
      "\tLoading conv block:  1\n",
      "\tLoading conv block:  2\n",
      "Loading Gen Block layer: 5\n",
      "\tLoading bn block:  1\n",
      "\tLoading bn block:  2\n",
      "\tLoading conv block:  1\n",
      "\tLoading conv block:  2\n",
      "Loading final batch norm.\n",
      "Loading final conv layer.\n"
     ]
    }
   ],
   "source": [
    "#########################\n",
    "# ## WEIGHT TRANSFER ## #\n",
    "#########################\n",
    "\n",
    "# function to copy linear layer\n",
    "def list_linear_weights(layer_pt):\n",
    "    weight_list = []\n",
    "    # get pt weights\n",
    "    weight_list += [np.transpose(layer_pt.weight.data.numpy())]\n",
    "    if layer_pt.bias is not None:\n",
    "        weight_list += [layer_pt.bias.data.numpy()]\n",
    "    return weight_list\n",
    "\n",
    "# function to copy conv layer\n",
    "def list_conv_weights(layer_pt):\n",
    "    weight_list = []\n",
    "\n",
    "    # add to list\n",
    "    weight_list += [np.transpose(layer_pt.weight.data.numpy(), (2, 3, 1, 0))]\n",
    "    # save bias\n",
    "    if layer_pt.bias is not None:\n",
    "        weight_list += [layer_pt.bias.data.numpy()]\n",
    "\n",
    "    return weight_list\n",
    "\n",
    "# copy batchnorm layer\n",
    "def list_batch_norm(layer_pt):\n",
    "    weight_list = []\n",
    "\n",
    "    # learning scaling and bias for standard batch norm\n",
    "    weight_list += [layer_pt.weight.data.numpy()]\n",
    "    weight_list += [layer_pt.bias.data.numpy()]\n",
    "    # running mean and var records \n",
    "    weight_list += [layer_pt.running_mean.data.numpy()]\n",
    "    weight_list += [layer_pt.running_var.data.numpy()]\n",
    "\n",
    "    return weight_list\n",
    "\n",
    "# copy gen block\n",
    "def list_gen_block(layer_pt):\n",
    "    # copy batchnorm layers\n",
    "    bn_weight_list = []\n",
    "    for i in range(1, 3):  #  Batchnorms\n",
    "        batch_lyr_pt = getattr(layer_pt, 'b%d' % i)\n",
    "        bn_weight_list += [list_batch_norm(batch_lyr_pt)]\n",
    "\n",
    "    conv_weight_list = []\n",
    "    for i in range(1, 3):  # Convolutions\n",
    "        conv_lyr_pt = getattr(layer_pt, 'c%d' % i)\n",
    "        conv_weight_list += [list_conv_weights(conv_lyr_pt)]\n",
    "    \n",
    "    sc_weight_list = []\n",
    "    sc_lyr_pt = getattr(layer_pt, 'c_sc')\n",
    "    sc_weight_list += [list_conv_weights(sc_lyr_pt)]\n",
    "\n",
    "    return bn_weight_list, conv_weight_list, sc_weight_list\n",
    "\n",
    "\n",
    "# copy embeddings\n",
    "print('Initial linear layer.')\n",
    "linear_1 = list_linear_weights(model_pt.l1)\n",
    "model.lin_1.set_weights(linear_1)\n",
    "\n",
    "# copy generator layers and attention layer\n",
    "for i in range(2, 6):\n",
    "    print('Loading Gen Block layer:', i)\n",
    "    # get numpy list of weights\n",
    "    bn_weights, conv_weights, sc_weights = list_gen_block(getattr(model_pt, 'block%d' % i))\n",
    "    # load the bn weights\n",
    "    for j in range(1, 3):\n",
    "        print('\\tLoading bn block: ', j)\n",
    "        bn_layer_tf = getattr(getattr(model, 'block%d' % i), 'bn_' + str(j))\n",
    "        bn_layer_tf.set_weights(bn_weights[j-1])\n",
    "    # load the conv weights\n",
    "    for j in range(1, 3):\n",
    "        print('\\tLoading conv block: ', j)\n",
    "        conv_lyr_tf = getattr(getattr(model, 'block%d' % i), 'conv_' + str(j))\n",
    "        conv_lyr_tf.set_weights(conv_weights[j-1])\n",
    "    # load sc weights\n",
    "    sc_lyr_tf = getattr(getattr(model, 'block%d' % i), 'sc')\n",
    "    sc_lyr_tf.set_weights(sc_weights[0])\n",
    "\n",
    "# copy final batch norm\n",
    "print('Loading final batch norm.')\n",
    "bn_weights = list_batch_norm(model_pt.b6)\n",
    "model.bn_6.set_weights(bn_weights)\n",
    "# copy rgb conv\n",
    "print('Loading final conv layer.')\n",
    "conv_to_rgb_weights = list_conv_weights(model_pt.c6)\n",
    "model.conv_6.set_weights(conv_to_rgb_weights)"
   ]
  },
  {
   "cell_type": "code",
   "execution_count": 6,
   "metadata": {
    "executionInfo": {
     "elapsed": 9,
     "status": "ok",
     "timestamp": 1652813535853,
     "user": {
      "displayName": "MITCHELL HILL",
      "userId": "00701271769183393256"
     },
     "user_tz": 240
    },
    "id": "3_KvHmb4dBEO"
   },
   "outputs": [],
   "source": [
    "##################\n",
    "# ## TEST OUT ## #\n",
    "##################\n",
    "\n",
    "batch_size = 8\n",
    "\n",
    "# tf2 noise and label\n",
    "z_init = tf.random.normal([batch_size, 128])  # noise sample\n",
    "\n",
    "# copy noise and label to torch via numpy\n",
    "z_init_np = z_init.numpy()\n",
    "z_init_pt = torch.tensor(z_init_np)"
   ]
  },
  {
   "cell_type": "code",
   "execution_count": 7,
   "metadata": {
    "colab": {
     "base_uri": "https://localhost:8080/"
    },
    "executionInfo": {
     "elapsed": 1556,
     "status": "ok",
     "timestamp": 1652813537402,
     "user": {
      "displayName": "MITCHELL HILL",
      "userId": "00701271769183393256"
     },
     "user_tz": 240
    },
    "id": "QCUXtcG8FmAb",
    "outputId": "6cb92528-6c86-4d33-bc7c-673d679f9e0e"
   },
   "outputs": [
    {
     "name": "stdout",
     "output_type": "stream",
     "text": [
      "Max pixel-wise difference between TF2 and Pytorch Big GAN: 0.052351356\n"
     ]
    }
   ],
   "source": [
    "# forward pass with tf2 and torch biggan\n",
    "im = model(z_init, training=False)\n",
    "im_pt = model_pt(z_init_pt)\n",
    "\n",
    "# max pixel-wise difference\n",
    "print('Max pixel-wise difference between TF2 and Pytorch Big GAN:',\n",
    "      np.max(np.abs(im.numpy() - im_pt.permute(0, 2, 3, 1).detach().numpy())))"
   ]
  },
  {
   "cell_type": "code",
   "execution_count": 8,
   "metadata": {
    "colab": {
     "base_uri": "https://localhost:8080/",
     "height": 285
    },
    "executionInfo": {
     "elapsed": 307,
     "status": "ok",
     "timestamp": 1652813537702,
     "user": {
      "displayName": "MITCHELL HILL",
      "userId": "00701271769183393256"
     },
     "user_tz": 240
    },
    "id": "vYzRGBN0AUER",
    "outputId": "a14cfd85-1f99-4ed9-bfb1-d94af60d9d24"
   },
   "outputs": [
    {
     "data": {
      "text/plain": [
       "<matplotlib.image.AxesImage at 0x1db98d19160>"
      ]
     },
     "execution_count": 8,
     "metadata": {},
     "output_type": "execute_result"
    },
    {
     "data": {
      "image/png": "[encoded data removed]",
      "text/plain": [
       "<Figure size 432x288 with 1 Axes>"
      ]
     },
     "metadata": {
      "needs_background": "light"
     },
     "output_type": "display_data"
    }
   ],
   "source": [
    "import matplotlib.pyplot as plt\n",
    "\n",
    "# visual tf2 biggan\n",
    "plt.imshow((im[0].numpy()+1)/2)"
   ]
  },
  {
   "cell_type": "code",
   "execution_count": 9,
   "metadata": {
    "colab": {
     "base_uri": "https://localhost:8080/",
     "height": 285
    },
    "executionInfo": {
     "elapsed": 293,
     "status": "ok",
     "timestamp": 1652813537988,
     "user": {
      "displayName": "MITCHELL HILL",
      "userId": "00701271769183393256"
     },
     "user_tz": 240
    },
    "id": "3GkK2P29_XA4",
    "outputId": "61bb6264-c1c5-41db-c258-29b921bf399d"
   },
   "outputs": [
    {
     "data": {
      "text/plain": [
       "<matplotlib.image.AxesImage at 0x1db8b513310>"
      ]
     },
     "execution_count": 9,
     "metadata": {},
     "output_type": "execute_result"
    },
    {
     "data": {
      "image/png": "[encoded data removed]",
      "text/plain": [
       "<Figure size 432x288 with 1 Axes>"
      ]
     },
     "metadata": {
      "needs_background": "light"
     },
     "output_type": "display_data"
    }
   ],
   "source": [
    "# visual torch biggan\n",
    "plt.imshow((im_pt[0].permute(1, 2, 0).data.numpy()+1)/2)"
   ]
  },
  {
   "cell_type": "code",
   "execution_count": 10,
   "metadata": {
    "executionInfo": {
     "elapsed": 13761,
     "status": "ok",
     "timestamp": 1652813551740,
     "user": {
      "displayName": "MITCHELL HILL",
      "userId": "00701271769183393256"
     },
     "user_tz": 240
    },
    "id": "VFR3UgTSrpBG"
   },
   "outputs": [],
   "source": [
    "# save tf2 weights\n",
    "model.save_weights(TF2_FILE)"
   ]
  }
 ],
 "metadata": {
  "colab": {
   "authorship_tag": "ABX9TyP7+V+iqC0od/r0uoHN1h0I",
   "collapsed_sections": [],
   "machine_shape": "hm",
   "name": "save_celeb_a_sngan_tf2.ipynb",
   "provenance": []
  },
  "kernelspec": {
   "display_name": "Python 3 (ipykernel)",
   "language": "python",
   "name": "python3"
  },
  "language_info": {
   "codemirror_mode": {
    "name": "ipython",
    "version": 3
   },
   "file_extension": ".py",
   "mimetype": "text/x-python",
   "name": "python",
   "nbconvert_exporter": "python",
   "pygments_lexer": "ipython3",
   "version": "3.8.8"
  }
 },
 "nbformat": 4,
 "nbformat_minor": 1
}
